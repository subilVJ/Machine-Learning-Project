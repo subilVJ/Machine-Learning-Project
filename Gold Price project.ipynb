{
 "cells": [
  {
   "cell_type": "markdown",
   "id": "48102355",
   "metadata": {},
   "source": [
    "# <span style = \"color: green\" >Simple Linear Regression Project (Gold Price Prediction) </span>"
   ]
  },
  {
   "cell_type": "markdown",
   "id": "2e972c7b",
   "metadata": {},
   "source": [
    "***"
   ]
  },
  {
   "cell_type": "markdown",
   "id": "7c57d13c",
   "metadata": {},
   "source": [
    "Of all the precious metals, gold is the most popular as an investment. Investors generally buy gold as a way of diversifying risk, especially through the use of futures contracts and derivatives. The gold market is subject to speculation and volatility as are other markets. Compared to other precious metals used for investment, gold has been the most effective safe haven across a number of countries.<br><br>\n",
    "The Dataset contain gold prices (in USD) from 2001 to 2019.\n",
    "Our goal is to predict where the gold prices will be in the coming years"
   ]
  },
  {
   "cell_type": "markdown",
   "id": "9ab4112a",
   "metadata": {},
   "source": [
    "#### Import the necessary libraries"
   ]
  },
  {
   "cell_type": "code",
   "execution_count": 1,
   "id": "4255e2ef",
   "metadata": {},
   "outputs": [],
   "source": [
    "import pandas as pd\n",
    "import numpy as np\n",
    "import matplotlib.pyplot as plt\n",
    "import seaborn as sns"
   ]
  },
  {
   "cell_type": "markdown",
   "id": "9f81002c",
   "metadata": {},
   "source": [
    "#### Read 'gold_price_usd.csv' & store it in a variable"
   ]
  },
  {
   "cell_type": "code",
   "execution_count": 3,
   "id": "85dae8da",
   "metadata": {},
   "outputs": [],
   "source": [
    "df=pd.read_csv('gold_price_usd.csv')"
   ]
  },
  {
   "cell_type": "markdown",
   "id": "660c1f06",
   "metadata": {},
   "source": [
    "#### View the first 5 rows"
   ]
  },
  {
   "cell_type": "code",
   "execution_count": 4,
   "id": "e7c06b52",
   "metadata": {},
   "outputs": [
    {
     "data": {
      "text/html": [
       "<div>\n",
       "<style scoped>\n",
       "    .dataframe tbody tr th:only-of-type {\n",
       "        vertical-align: middle;\n",
       "    }\n",
       "\n",
       "    .dataframe tbody tr th {\n",
       "        vertical-align: top;\n",
       "    }\n",
       "\n",
       "    .dataframe thead th {\n",
       "        text-align: right;\n",
       "    }\n",
       "</style>\n",
       "<table border=\"1\" class=\"dataframe\">\n",
       "  <thead>\n",
       "    <tr style=\"text-align: right;\">\n",
       "      <th></th>\n",
       "      <th>Date</th>\n",
       "      <th>USD (AM)</th>\n",
       "    </tr>\n",
       "  </thead>\n",
       "  <tbody>\n",
       "    <tr>\n",
       "      <th>0</th>\n",
       "      <td>2001-01-02</td>\n",
       "      <td>272.80</td>\n",
       "    </tr>\n",
       "    <tr>\n",
       "      <th>1</th>\n",
       "      <td>2001-01-03</td>\n",
       "      <td>269.00</td>\n",
       "    </tr>\n",
       "    <tr>\n",
       "      <th>2</th>\n",
       "      <td>2001-01-04</td>\n",
       "      <td>268.75</td>\n",
       "    </tr>\n",
       "    <tr>\n",
       "      <th>3</th>\n",
       "      <td>2001-01-05</td>\n",
       "      <td>268.00</td>\n",
       "    </tr>\n",
       "    <tr>\n",
       "      <th>4</th>\n",
       "      <td>2001-01-08</td>\n",
       "      <td>268.60</td>\n",
       "    </tr>\n",
       "  </tbody>\n",
       "</table>\n",
       "</div>"
      ],
      "text/plain": [
       "         Date  USD (AM)\n",
       "0  2001-01-02    272.80\n",
       "1  2001-01-03    269.00\n",
       "2  2001-01-04    268.75\n",
       "3  2001-01-05    268.00\n",
       "4  2001-01-08    268.60"
      ]
     },
     "execution_count": 4,
     "metadata": {},
     "output_type": "execute_result"
    }
   ],
   "source": [
    "df.head()"
   ]
  },
  {
   "cell_type": "markdown",
   "id": "b660ee82",
   "metadata": {},
   "source": [
    "#### Check the information"
   ]
  },
  {
   "cell_type": "code",
   "execution_count": 5,
   "id": "48170794",
   "metadata": {},
   "outputs": [
    {
     "name": "stdout",
     "output_type": "stream",
     "text": [
      "<class 'pandas.core.frame.DataFrame'>\n",
      "RangeIndex: 4718 entries, 0 to 4717\n",
      "Data columns (total 2 columns):\n",
      " #   Column    Non-Null Count  Dtype  \n",
      "---  ------    --------------  -----  \n",
      " 0   Date      4718 non-null   object \n",
      " 1   USD (AM)  4718 non-null   float64\n",
      "dtypes: float64(1), object(1)\n",
      "memory usage: 73.8+ KB\n"
     ]
    }
   ],
   "source": [
    "df.info()"
   ]
  },
  {
   "cell_type": "markdown",
   "id": "8f82c0da",
   "metadata": {},
   "source": [
    "#### Find the columns"
   ]
  },
  {
   "cell_type": "code",
   "execution_count": 6,
   "id": "a1c93286",
   "metadata": {},
   "outputs": [
    {
     "data": {
      "text/plain": [
       "Index(['Date', 'USD (AM)'], dtype='object')"
      ]
     },
     "execution_count": 6,
     "metadata": {},
     "output_type": "execute_result"
    }
   ],
   "source": [
    "df.columns"
   ]
  },
  {
   "cell_type": "markdown",
   "id": "33d9321f",
   "metadata": {},
   "source": [
    "#### Rename USD (AM) to Price"
   ]
  },
  {
   "cell_type": "code",
   "execution_count": 10,
   "id": "44a686e6",
   "metadata": {},
   "outputs": [],
   "source": [
    "df=df.rename(columns={'USD (AM)':'Price'})"
   ]
  },
  {
   "cell_type": "markdown",
   "id": "0e7710f8",
   "metadata": {},
   "source": [
    "#### Check if there are any missing values in the dataset"
   ]
  },
  {
   "cell_type": "code",
   "execution_count": 11,
   "id": "c32d93b7",
   "metadata": {},
   "outputs": [
    {
     "data": {
      "text/plain": [
       "Date     0\n",
       "Price    0\n",
       "dtype: int64"
      ]
     },
     "execution_count": 11,
     "metadata": {},
     "output_type": "execute_result"
    }
   ],
   "source": [
    "df.isna().sum()"
   ]
  },
  {
   "cell_type": "markdown",
   "id": "6ba55458",
   "metadata": {},
   "source": [
    "#### Gather the basic statistical information about the dataset"
   ]
  },
  {
   "cell_type": "code",
   "execution_count": 12,
   "id": "b3e3c5dc",
   "metadata": {},
   "outputs": [
    {
     "data": {
      "text/html": [
       "<div>\n",
       "<style scoped>\n",
       "    .dataframe tbody tr th:only-of-type {\n",
       "        vertical-align: middle;\n",
       "    }\n",
       "\n",
       "    .dataframe tbody tr th {\n",
       "        vertical-align: top;\n",
       "    }\n",
       "\n",
       "    .dataframe thead th {\n",
       "        text-align: right;\n",
       "    }\n",
       "</style>\n",
       "<table border=\"1\" class=\"dataframe\">\n",
       "  <thead>\n",
       "    <tr style=\"text-align: right;\">\n",
       "      <th></th>\n",
       "      <th>Price</th>\n",
       "    </tr>\n",
       "  </thead>\n",
       "  <tbody>\n",
       "    <tr>\n",
       "      <th>count</th>\n",
       "      <td>4718.000000</td>\n",
       "    </tr>\n",
       "    <tr>\n",
       "      <th>mean</th>\n",
       "      <td>959.990812</td>\n",
       "    </tr>\n",
       "    <tr>\n",
       "      <th>std</th>\n",
       "      <td>449.456217</td>\n",
       "    </tr>\n",
       "    <tr>\n",
       "      <th>min</th>\n",
       "      <td>256.700000</td>\n",
       "    </tr>\n",
       "    <tr>\n",
       "      <th>25%</th>\n",
       "      <td>449.112500</td>\n",
       "    </tr>\n",
       "    <tr>\n",
       "      <th>50%</th>\n",
       "      <td>1113.125000</td>\n",
       "    </tr>\n",
       "    <tr>\n",
       "      <th>75%</th>\n",
       "      <td>1293.750000</td>\n",
       "    </tr>\n",
       "    <tr>\n",
       "      <th>max</th>\n",
       "      <td>1896.500000</td>\n",
       "    </tr>\n",
       "  </tbody>\n",
       "</table>\n",
       "</div>"
      ],
      "text/plain": [
       "             Price\n",
       "count  4718.000000\n",
       "mean    959.990812\n",
       "std     449.456217\n",
       "min     256.700000\n",
       "25%     449.112500\n",
       "50%    1113.125000\n",
       "75%    1293.750000\n",
       "max    1896.500000"
      ]
     },
     "execution_count": 12,
     "metadata": {},
     "output_type": "execute_result"
    }
   ],
   "source": [
    "df.describe()"
   ]
  },
  {
   "cell_type": "markdown",
   "id": "8ad500ad",
   "metadata": {},
   "source": [
    "#### Convert Date column from object to datetime format"
   ]
  },
  {
   "cell_type": "code",
   "execution_count": 13,
   "id": "2e63a975",
   "metadata": {},
   "outputs": [],
   "source": [
    "df['year'] = pd.DatetimeIndex(df['Date']).year\n",
    "df['month'] = pd.DatetimeIndex(df['Date']).month"
   ]
  },
  {
   "cell_type": "code",
   "execution_count": 14,
   "id": "159ca320",
   "metadata": {},
   "outputs": [
    {
     "name": "stdout",
     "output_type": "stream",
     "text": [
      "<class 'pandas.core.frame.DataFrame'>\n",
      "RangeIndex: 4718 entries, 0 to 4717\n",
      "Data columns (total 4 columns):\n",
      " #   Column  Non-Null Count  Dtype  \n",
      "---  ------  --------------  -----  \n",
      " 0   Date    4718 non-null   object \n",
      " 1   Price   4718 non-null   float64\n",
      " 2   year    4718 non-null   int64  \n",
      " 3   month   4718 non-null   int64  \n",
      "dtypes: float64(1), int64(2), object(1)\n",
      "memory usage: 147.6+ KB\n"
     ]
    }
   ],
   "source": [
    "df.info()"
   ]
  },
  {
   "cell_type": "markdown",
   "id": "37f41fc8",
   "metadata": {},
   "source": [
    "#### Create a new column with Year"
   ]
  },
  {
   "cell_type": "code",
   "execution_count": 16,
   "id": "caa6c5f4",
   "metadata": {},
   "outputs": [
    {
     "data": {
      "text/html": [
       "<div>\n",
       "<style scoped>\n",
       "    .dataframe tbody tr th:only-of-type {\n",
       "        vertical-align: middle;\n",
       "    }\n",
       "\n",
       "    .dataframe tbody tr th {\n",
       "        vertical-align: top;\n",
       "    }\n",
       "\n",
       "    .dataframe thead th {\n",
       "        text-align: right;\n",
       "    }\n",
       "</style>\n",
       "<table border=\"1\" class=\"dataframe\">\n",
       "  <thead>\n",
       "    <tr style=\"text-align: right;\">\n",
       "      <th></th>\n",
       "      <th>Date</th>\n",
       "      <th>Price</th>\n",
       "      <th>year</th>\n",
       "      <th>month</th>\n",
       "    </tr>\n",
       "  </thead>\n",
       "  <tbody>\n",
       "    <tr>\n",
       "      <th>0</th>\n",
       "      <td>2001-01-02</td>\n",
       "      <td>272.80</td>\n",
       "      <td>2001</td>\n",
       "      <td>1</td>\n",
       "    </tr>\n",
       "    <tr>\n",
       "      <th>1</th>\n",
       "      <td>2001-01-03</td>\n",
       "      <td>269.00</td>\n",
       "      <td>2001</td>\n",
       "      <td>1</td>\n",
       "    </tr>\n",
       "    <tr>\n",
       "      <th>2</th>\n",
       "      <td>2001-01-04</td>\n",
       "      <td>268.75</td>\n",
       "      <td>2001</td>\n",
       "      <td>1</td>\n",
       "    </tr>\n",
       "    <tr>\n",
       "      <th>3</th>\n",
       "      <td>2001-01-05</td>\n",
       "      <td>268.00</td>\n",
       "      <td>2001</td>\n",
       "      <td>1</td>\n",
       "    </tr>\n",
       "    <tr>\n",
       "      <th>4</th>\n",
       "      <td>2001-01-08</td>\n",
       "      <td>268.60</td>\n",
       "      <td>2001</td>\n",
       "      <td>1</td>\n",
       "    </tr>\n",
       "  </tbody>\n",
       "</table>\n",
       "</div>"
      ],
      "text/plain": [
       "         Date   Price  year  month\n",
       "0  2001-01-02  272.80  2001      1\n",
       "1  2001-01-03  269.00  2001      1\n",
       "2  2001-01-04  268.75  2001      1\n",
       "3  2001-01-05  268.00  2001      1\n",
       "4  2001-01-08  268.60  2001      1"
      ]
     },
     "execution_count": 16,
     "metadata": {},
     "output_type": "execute_result"
    }
   ],
   "source": [
    "df.head()"
   ]
  },
  {
   "cell_type": "markdown",
   "id": "9177126f",
   "metadata": {},
   "source": [
    "#### Create a new column with Months"
   ]
  },
  {
   "cell_type": "code",
   "execution_count": 26,
   "id": "6b57c728",
   "metadata": {},
   "outputs": [],
   "source": []
  },
  {
   "cell_type": "code",
   "execution_count": 27,
   "id": "11cf3e07",
   "metadata": {},
   "outputs": [
    {
     "data": {
      "text/html": [
       "<div>\n",
       "<style scoped>\n",
       "    .dataframe tbody tr th:only-of-type {\n",
       "        vertical-align: middle;\n",
       "    }\n",
       "\n",
       "    .dataframe tbody tr th {\n",
       "        vertical-align: top;\n",
       "    }\n",
       "\n",
       "    .dataframe thead th {\n",
       "        text-align: right;\n",
       "    }\n",
       "</style>\n",
       "<table border=\"1\" class=\"dataframe\">\n",
       "  <thead>\n",
       "    <tr style=\"text-align: right;\">\n",
       "      <th></th>\n",
       "      <th>Date</th>\n",
       "      <th>Price</th>\n",
       "      <th>Year</th>\n",
       "      <th>Months</th>\n",
       "    </tr>\n",
       "  </thead>\n",
       "  <tbody>\n",
       "    <tr>\n",
       "      <th>0</th>\n",
       "      <td>2001-01-02</td>\n",
       "      <td>272.80</td>\n",
       "      <td>2001</td>\n",
       "      <td>1</td>\n",
       "    </tr>\n",
       "    <tr>\n",
       "      <th>1</th>\n",
       "      <td>2001-01-03</td>\n",
       "      <td>269.00</td>\n",
       "      <td>2001</td>\n",
       "      <td>1</td>\n",
       "    </tr>\n",
       "    <tr>\n",
       "      <th>2</th>\n",
       "      <td>2001-01-04</td>\n",
       "      <td>268.75</td>\n",
       "      <td>2001</td>\n",
       "      <td>1</td>\n",
       "    </tr>\n",
       "    <tr>\n",
       "      <th>3</th>\n",
       "      <td>2001-01-05</td>\n",
       "      <td>268.00</td>\n",
       "      <td>2001</td>\n",
       "      <td>1</td>\n",
       "    </tr>\n",
       "    <tr>\n",
       "      <th>4</th>\n",
       "      <td>2001-01-08</td>\n",
       "      <td>268.60</td>\n",
       "      <td>2001</td>\n",
       "      <td>1</td>\n",
       "    </tr>\n",
       "  </tbody>\n",
       "</table>\n",
       "</div>"
      ],
      "text/plain": [
       "        Date   Price  Year  Months\n",
       "0 2001-01-02  272.80  2001       1\n",
       "1 2001-01-03  269.00  2001       1\n",
       "2 2001-01-04  268.75  2001       1\n",
       "3 2001-01-05  268.00  2001       1\n",
       "4 2001-01-08  268.60  2001       1"
      ]
     },
     "execution_count": 27,
     "metadata": {},
     "output_type": "execute_result"
    }
   ],
   "source": []
  },
  {
   "cell_type": "markdown",
   "id": "107fd613",
   "metadata": {},
   "source": [
    "#### See all the years and Months in our dataset"
   ]
  },
  {
   "cell_type": "code",
   "execution_count": 17,
   "id": "d9e2699f",
   "metadata": {},
   "outputs": [
    {
     "data": {
      "text/plain": [
       "0       2001\n",
       "1       2001\n",
       "2       2001\n",
       "3       2001\n",
       "4       2001\n",
       "        ... \n",
       "4713    2019\n",
       "4714    2019\n",
       "4715    2019\n",
       "4716    2019\n",
       "4717    2019\n",
       "Name: year, Length: 4718, dtype: int64"
      ]
     },
     "execution_count": 17,
     "metadata": {},
     "output_type": "execute_result"
    }
   ],
   "source": [
    "#Years\n",
    "df['year']"
   ]
  },
  {
   "cell_type": "code",
   "execution_count": 18,
   "id": "6f2b0a1c",
   "metadata": {},
   "outputs": [
    {
     "data": {
      "text/plain": [
       "0       1\n",
       "1       1\n",
       "2       1\n",
       "3       1\n",
       "4       1\n",
       "       ..\n",
       "4713    8\n",
       "4714    8\n",
       "4715    8\n",
       "4716    8\n",
       "4717    9\n",
       "Name: month, Length: 4718, dtype: int64"
      ]
     },
     "execution_count": 18,
     "metadata": {},
     "output_type": "execute_result"
    }
   ],
   "source": [
    "#Months\n",
    "df['month']"
   ]
  },
  {
   "cell_type": "markdown",
   "id": "c9dbda58",
   "metadata": {},
   "source": [
    "## <span style = \"color: orange\" >Visualization</span>"
   ]
  },
  {
   "cell_type": "markdown",
   "id": "680fae97",
   "metadata": {},
   "source": [
    "### Create a regression plot with x-axis as years and y-axis as Price"
   ]
  },
  {
   "cell_type": "code",
   "execution_count": 20,
   "id": "909b9c3b",
   "metadata": {},
   "outputs": [
    {
     "data": {
      "text/plain": [
       "<AxesSubplot:xlabel='year', ylabel='month'>"
      ]
     },
     "execution_count": 20,
     "metadata": {},
     "output_type": "execute_result"
    },
    {
     "data": {
      "image/png": "[encoded data removed]",
      "text/plain": [
       "<Figure size 432x288 with 1 Axes>"
      ]
     },
     "metadata": {
      "needs_background": "light"
     },
     "output_type": "display_data"
    }
   ],
   "source": [
    "sns.regplot(x=df['year'],y=df['month'])"
   ]
  },
  {
   "cell_type": "markdown",
   "id": "87a1fe81",
   "metadata": {},
   "source": [
    "### Plot a histplot to find the variation in price"
   ]
  },
  {
   "cell_type": "code",
   "execution_count": 25,
   "id": "da8d6fa6",
   "metadata": {},
   "outputs": [
    {
     "data": {
      "text/plain": [
       "<AxesSubplot:xlabel='year', ylabel='Price'>"
      ]
     },
     "execution_count": 25,
     "metadata": {},
     "output_type": "execute_result"
    },
    {
     "data": {
      "image/png": "[encoded data removed]",
      "text/plain": [
       "<Figure size 432x288 with 1 Axes>"
      ]
     },
     "metadata": {
      "needs_background": "light"
     },
     "output_type": "display_data"
    }
   ],
   "source": [
    "\n",
    "sns.histplot(x=df['year'],y=df['Price'])"
   ]
  },
  {
   "cell_type": "markdown",
   "id": "6c2a2c75",
   "metadata": {},
   "source": [
    "### Assign year and price in x and y variables"
   ]
  },
  {
   "cell_type": "code",
   "execution_count": 26,
   "id": "1813fec8",
   "metadata": {},
   "outputs": [],
   "source": [
    "X = df[['year']]\n",
    "y = df['Price']"
   ]
  },
  {
   "cell_type": "markdown",
   "id": "56d9d00f",
   "metadata": {},
   "source": [
    "### Split the data into traning and testin set"
   ]
  },
  {
   "cell_type": "markdown",
   "id": "df9f468a",
   "metadata": {},
   "source": [
    "We will train our model on the training set and then use the test set to evaluate the model"
   ]
  },
  {
   "cell_type": "code",
   "execution_count": 27,
   "id": "4bed6865",
   "metadata": {},
   "outputs": [],
   "source": [
    "# import train_test split\n",
    "from sklearn.model_selection import train_test_split"
   ]
  },
  {
   "cell_type": "code",
   "execution_count": 28,
   "id": "50d000eb",
   "metadata": {},
   "outputs": [],
   "source": [
    "X_train, X_test, y_train, y_test = train_test_split(X,y, test_size = 0.3, random_state=100)"
   ]
  },
  {
   "cell_type": "markdown",
   "id": "9403e8e3",
   "metadata": {},
   "source": [
    "## Train Data"
   ]
  },
  {
   "cell_type": "code",
   "execution_count": 29,
   "id": "fe98321c",
   "metadata": {},
   "outputs": [],
   "source": [
    "# import LinearRegression from sklearn\n",
    "from sklearn.linear_model import LinearRegression"
   ]
  },
  {
   "cell_type": "markdown",
   "id": "9b768e74",
   "metadata": {},
   "source": [
    "### Create Linear Regression Model"
   ]
  },
  {
   "cell_type": "code",
   "execution_count": 31,
   "id": "c76eea7a",
   "metadata": {},
   "outputs": [],
   "source": [
    "model=LinearRegression()"
   ]
  },
  {
   "cell_type": "markdown",
   "id": "2cf05c9e",
   "metadata": {},
   "source": [
    "### Train the  model"
   ]
  },
  {
   "cell_type": "code",
   "execution_count": 32,
   "id": "17434b68",
   "metadata": {},
   "outputs": [
    {
     "data": {
      "text/plain": [
       "LinearRegression()"
      ]
     },
     "execution_count": 32,
     "metadata": {},
     "output_type": "execute_result"
    }
   ],
   "source": [
    "model.fit(X_train,y_train)"
   ]
  },
  {
   "cell_type": "markdown",
   "id": "cf0446f3",
   "metadata": {},
   "source": [
    "### Check the score of our model"
   ]
  },
  {
   "cell_type": "code",
   "execution_count": 33,
   "id": "335bd388",
   "metadata": {},
   "outputs": [
    {
     "data": {
      "text/plain": [
       "0.7048691960222999"
      ]
     },
     "execution_count": 33,
     "metadata": {},
     "output_type": "execute_result"
    }
   ],
   "source": [
    "model.score(X_train,y_train)"
   ]
  },
  {
   "cell_type": "markdown",
   "id": "2a654304",
   "metadata": {},
   "source": [
    "### Check the coefficient and Intercept"
   ]
  },
  {
   "cell_type": "code",
   "execution_count": 34,
   "id": "0ab51e7b",
   "metadata": {},
   "outputs": [
    {
     "data": {
      "text/plain": [
       "-140074.32374779362"
      ]
     },
     "execution_count": 34,
     "metadata": {},
     "output_type": "execute_result"
    }
   ],
   "source": [
    "#print the intercept\n",
    "model.intercept_"
   ]
  },
  {
   "cell_type": "code",
   "execution_count": 35,
   "id": "2c7050c7",
   "metadata": {},
   "outputs": [
    {
     "data": {
      "text/plain": [
       "array([70.17366927])"
      ]
     },
     "execution_count": 35,
     "metadata": {},
     "output_type": "execute_result"
    }
   ],
   "source": [
    "#print the coefficent\n",
    "model.coef_\n"
   ]
  },
  {
   "cell_type": "markdown",
   "id": "ea41732a",
   "metadata": {},
   "source": [
    "### Make Prediction with Test data"
   ]
  },
  {
   "cell_type": "code",
   "execution_count": 45,
   "id": "8cbb5881",
   "metadata": {},
   "outputs": [
    {
     "data": {
      "text/plain": [
       "0        425.50\n",
       "1        307.80\n",
       "2       1335.75\n",
       "3        687.25\n",
       "4        924.75\n",
       "         ...   \n",
       "1411    1088.00\n",
       "1412    1250.75\n",
       "1413    1776.50\n",
       "1414     276.50\n",
       "1415    1222.05\n",
       "Name: Price, Length: 1416, dtype: float64"
      ]
     },
     "execution_count": 45,
     "metadata": {},
     "output_type": "execute_result"
    }
   ],
   "source": [
    "# Also store the predicted values in a variable\n",
    "y_pred=pd.DataFrame(model.predict(X_test))\n",
    "y_test.reset_index(drop=True,inplace=True)\n",
    "y_test"
   ]
  },
  {
   "cell_type": "markdown",
   "id": "7f984177",
   "metadata": {},
   "source": [
    "### Create a new dataframe with actual and predicted values with year(X_test) as index"
   ]
  },
  {
   "cell_type": "code",
   "execution_count": 50,
   "id": "7efc39a2",
   "metadata": {},
   "outputs": [
    {
     "name": "stderr",
     "output_type": "stream",
     "text": [
      "C:\\Users\\Aaron\\AppData\\Local\\Temp/ipykernel_1152/2456431991.py:2: SettingWithCopyWarning: \n",
      "A value is trying to be set on a copy of a slice from a DataFrame.\n",
      "Try using .loc[row_indexer,col_indexer] = value instead\n",
      "\n",
      "See the caveats in the documentation: https://pandas.pydata.org/pandas-docs/stable/user_guide/indexing.html#returning-a-view-versus-a-copy\n",
      "  X_test['Y_test']=y_test\n",
      "C:\\Users\\Aaron\\AppData\\Local\\Temp/ipykernel_1152/2456431991.py:3: SettingWithCopyWarning: \n",
      "A value is trying to be set on a copy of a slice from a DataFrame.\n",
      "Try using .loc[row_indexer,col_indexer] = value instead\n",
      "\n",
      "See the caveats in the documentation: https://pandas.pydata.org/pandas-docs/stable/user_guide/indexing.html#returning-a-view-versus-a-copy\n",
      "  X_test['Prediction']=y_pred\n"
     ]
    },
    {
     "data": {
      "text/html": [
       "<div>\n",
       "<style scoped>\n",
       "    .dataframe tbody tr th:only-of-type {\n",
       "        vertical-align: middle;\n",
       "    }\n",
       "\n",
       "    .dataframe tbody tr th {\n",
       "        vertical-align: top;\n",
       "    }\n",
       "\n",
       "    .dataframe thead th {\n",
       "        text-align: right;\n",
       "    }\n",
       "</style>\n",
       "<table border=\"1\" class=\"dataframe\">\n",
       "  <thead>\n",
       "    <tr style=\"text-align: right;\">\n",
       "      <th></th>\n",
       "      <th>Y_test</th>\n",
       "      <th>Prediction</th>\n",
       "    </tr>\n",
       "    <tr>\n",
       "      <th>year</th>\n",
       "      <th></th>\n",
       "      <th></th>\n",
       "    </tr>\n",
       "  </thead>\n",
       "  <tbody>\n",
       "    <tr>\n",
       "      <th>2004</th>\n",
       "      <td>425.50</td>\n",
       "      <td>553.709468</td>\n",
       "    </tr>\n",
       "    <tr>\n",
       "      <th>2002</th>\n",
       "      <td>307.80</td>\n",
       "      <td>413.362129</td>\n",
       "    </tr>\n",
       "    <tr>\n",
       "      <th>2013</th>\n",
       "      <td>1335.75</td>\n",
       "      <td>1185.272491</td>\n",
       "    </tr>\n",
       "    <tr>\n",
       "      <th>2007</th>\n",
       "      <td>687.25</td>\n",
       "      <td>764.230476</td>\n",
       "    </tr>\n",
       "    <tr>\n",
       "      <th>2009</th>\n",
       "      <td>924.75</td>\n",
       "      <td>904.577814</td>\n",
       "    </tr>\n",
       "    <tr>\n",
       "      <th>...</th>\n",
       "      <td>...</td>\n",
       "      <td>...</td>\n",
       "    </tr>\n",
       "    <tr>\n",
       "      <th>2009</th>\n",
       "      <td>1088.00</td>\n",
       "      <td>904.577814</td>\n",
       "    </tr>\n",
       "    <tr>\n",
       "      <th>2013</th>\n",
       "      <td>1250.75</td>\n",
       "      <td>1185.272491</td>\n",
       "    </tr>\n",
       "    <tr>\n",
       "      <th>2012</th>\n",
       "      <td>1776.50</td>\n",
       "      <td>1115.098822</td>\n",
       "    </tr>\n",
       "    <tr>\n",
       "      <th>2001</th>\n",
       "      <td>276.50</td>\n",
       "      <td>343.188460</td>\n",
       "    </tr>\n",
       "    <tr>\n",
       "      <th>2018</th>\n",
       "      <td>1222.05</td>\n",
       "      <td>1536.140838</td>\n",
       "    </tr>\n",
       "  </tbody>\n",
       "</table>\n",
       "<p>1416 rows × 2 columns</p>\n",
       "</div>"
      ],
      "text/plain": [
       "       Y_test   Prediction\n",
       "year                      \n",
       "2004   425.50   553.709468\n",
       "2002   307.80   413.362129\n",
       "2013  1335.75  1185.272491\n",
       "2007   687.25   764.230476\n",
       "2009   924.75   904.577814\n",
       "...       ...          ...\n",
       "2009  1088.00   904.577814\n",
       "2013  1250.75  1185.272491\n",
       "2012  1776.50  1115.098822\n",
       "2001   276.50   343.188460\n",
       "2018  1222.05  1536.140838\n",
       "\n",
       "[1416 rows x 2 columns]"
      ]
     },
     "execution_count": 50,
     "metadata": {},
     "output_type": "execute_result"
    }
   ],
   "source": [
    "X_test.reset_index(drop=True,inplace=True)\n",
    "X_test['Y_test']=y_test\n",
    "X_test['Prediction']=y_pred\n",
    "X_test.set_index('year')"
   ]
  },
  {
   "cell_type": "markdown",
   "id": "426592f1",
   "metadata": {},
   "source": [
    "### Check the mean absolute error, mean square error"
   ]
  },
  {
   "cell_type": "code",
   "execution_count": 51,
   "id": "05a5b97f",
   "metadata": {},
   "outputs": [],
   "source": [
    "from sklearn.metrics import mean_absolute_error, mean_squared_error"
   ]
  },
  {
   "cell_type": "code",
   "execution_count": 53,
   "id": "a8808ca4",
   "metadata": {},
   "outputs": [
    {
     "data": {
      "text/plain": [
       "186.24273893873823"
      ]
     },
     "execution_count": 53,
     "metadata": {},
     "output_type": "execute_result"
    }
   ],
   "source": [
    "# Mean absolute error\n",
    "mean_absolute_error(y_test,y_pred)"
   ]
  },
  {
   "cell_type": "code",
   "execution_count": 52,
   "id": "bd542ca0",
   "metadata": {},
   "outputs": [
    {
     "data": {
      "text/plain": [
       "58032.97376893202"
      ]
     },
     "execution_count": 52,
     "metadata": {},
     "output_type": "execute_result"
    }
   ],
   "source": [
    "# Mean squared error\n",
    "mean_squared_error(y_test,y_pred)"
   ]
  },
  {
   "cell_type": "markdown",
   "id": "7efec3da",
   "metadata": {},
   "source": [
    "### Predict the prices for the following years\n",
    "   * 2025, 2026, 2027, 2028, 2030"
   ]
  },
  {
   "cell_type": "code",
   "execution_count": 56,
   "id": "6a2b9736",
   "metadata": {},
   "outputs": [
    {
     "data": {
      "text/plain": [
       "array([2027.35652254, 2097.53019181, 2167.70386108, 2237.87753035,\n",
       "       2378.22486888])"
      ]
     },
     "execution_count": 56,
     "metadata": {},
     "output_type": "execute_result"
    }
   ],
   "source": [
    "model.predict([[2025],[2026],[2027],[2028],[2030]])"
   ]
  },
  {
   "cell_type": "markdown",
   "id": "d5e2044e",
   "metadata": {},
   "source": [
    "# <span style = \"color:green;font-size:40px\"> Great Job!</span>"
   ]
  },
  {
   "cell_type": "markdown",
   "id": "07afb47f",
   "metadata": {},
   "source": [
    "***"
   ]
  }
 ],
 "metadata": {
  "kernelspec": {
   "display_name": "Python 3 (ipykernel)",
   "language": "python",
   "name": "python3"
  },
  "language_info": {
   "codemirror_mode": {
    "name": "ipython",
    "version": 3
   },
   "file_extension": ".py",
   "mimetype": "text/x-python",
   "name": "python",
   "nbconvert_exporter": "python",
   "pygments_lexer": "ipython3",
   "version": "3.9.7"
  }
 },
 "nbformat": 4,
 "nbformat_minor": 5
}
